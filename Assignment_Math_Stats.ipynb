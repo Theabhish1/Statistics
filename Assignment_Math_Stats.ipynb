{
  "cells": [
    {
      "cell_type": "markdown",
      "id": "07c8c0b2",
      "metadata": {
        "id": "07c8c0b2"
      },
      "source": [
        "\n",
        "### 1. Find the Cartesian Product of the below given sets in the below cell. (In Python Code)\n",
        "\n",
        "A = set(['a','b','c'])\n",
        "\n",
        "S = {1,2,3}\n"
      ]
    },
    {
      "cell_type": "code",
      "execution_count": null,
      "id": "8b2078fa",
      "metadata": {
        "id": "8b2078fa",
        "colab": {
          "base_uri": "https://localhost:8080/"
        },
        "outputId": "887be1f3-65e2-49d6-cc0d-b640abd3ea0b"
      },
      "outputs": [
        {
          "output_type": "stream",
          "name": "stdout",
          "text": [
            "[('b', 1), ('b', 2), ('b', 3), ('c', 1), ('c', 2), ('c', 3), ('a', 1), ('a', 2), ('a', 3)]\n"
          ]
        }
      ],
      "source": [
        "from itertools import product\n",
        "\n",
        "A = set(['a', 'b', 'c'])\n",
        "S = {1, 2, 3}\n",
        "\n",
        "cartesian_product = list(product(A, S))\n",
        "print(cartesian_product)\n"
      ]
    },
    {
      "cell_type": "markdown",
      "id": "3d43b9ee",
      "metadata": {
        "id": "3d43b9ee"
      },
      "source": [
        "### 2. Find all the possible permutations and number of permutations of A\n",
        "\n",
        "A = {'Red','Green','Blue'}\n"
      ]
    },
    {
      "cell_type": "code",
      "execution_count": null,
      "id": "52c18588",
      "metadata": {
        "id": "52c18588",
        "colab": {
          "base_uri": "https://localhost:8080/"
        },
        "outputId": "06356fe2-9f37-434b-c6a0-72ffd96238db"
      },
      "outputs": [
        {
          "output_type": "stream",
          "name": "stdout",
          "text": [
            "All Permutations:\n",
            "('Blue', 'Green', 'Red')\n",
            "('Blue', 'Red', 'Green')\n",
            "('Green', 'Blue', 'Red')\n",
            "('Green', 'Red', 'Blue')\n",
            "('Red', 'Blue', 'Green')\n",
            "('Red', 'Green', 'Blue')\n",
            "\n",
            "Number of Permutations: 6\n"
          ]
        }
      ],
      "source": [
        "from itertools import permutations\n",
        "from math import factorial\n",
        "\n",
        "A = {'Red', 'Green', 'Blue'}\n",
        "\n",
        "# Find all permutations\n",
        "all_permutations = list(permutations(A))\n",
        "\n",
        "# Print all permutations\n",
        "print(\"All Permutations:\")\n",
        "for perm in all_permutations:\n",
        "    print(perm)\n",
        "\n",
        "# Calculate the number of permutations\n",
        "num_permutations = factorial(len(A))\n",
        "\n",
        "# Print the number of permutations\n",
        "print(\"\\nNumber of Permutations:\", num_permutations)\n"
      ]
    },
    {
      "cell_type": "markdown",
      "id": "637ffa24",
      "metadata": {
        "id": "637ffa24"
      },
      "source": [
        "### 3. Research Question on Hypothesis Testing\n",
        "\n",
        "In previous years, 52% of parents believed that electronics and social media was the cause of their teenager’s lack of sleep. Do more parents today believe that their teenager’s lack of sleep is caused due to electronics and social media?\n",
        "\n",
        "**Population**: Parents with a teenager (age 13-18)  \n",
        "**Parameter of Interest**: p  \n",
        "\n",
        "**Null Hypothesis:** p = 0.52  \n",
        "**Alternative Hypthosis:** p > 0.52 (note that this is a one-sided test)\n",
        "\n",
        "**Data**: 1018 people were surveyed. 56% of those who were surveyed believe that their teenager’s lack of sleep is caused due to electronics and social media."
      ]
    },
    {
      "cell_type": "markdown",
      "id": "4786f83f",
      "metadata": {
        "id": "4786f83f"
      },
      "source": [
        "### Hint: Use  `proportions_ztest()` from `statsmodels`\n",
        "\n",
        "Note the argument `alternative=\"larger\"` indicating a one-sided test. The function returns two values - the z-statistic and the corresponding p-value."
      ]
    },
    {
      "cell_type": "code",
      "source": [
        "import statsmodels.api as sm"
      ],
      "metadata": {
        "id": "qs4eTHmyTpZL"
      },
      "id": "qs4eTHmyTpZL",
      "execution_count": 17,
      "outputs": []
    },
    {
      "cell_type": "code",
      "execution_count": 18,
      "id": "475fe79a",
      "metadata": {
        "id": "475fe79a",
        "colab": {
          "base_uri": "https://localhost:8080/"
        },
        "outputId": "f97a25e3-80dd-4689-80ec-1bf6d49e1077"
      },
      "outputs": [
        {
          "output_type": "execute_result",
          "data": {
            "text/plain": [
              "0.05"
            ]
          },
          "metadata": {},
          "execution_count": 18
        }
      ],
      "source": [
        "#Signficance =5%=0.05\n",
        "5/100"
      ]
    },
    {
      "cell_type": "code",
      "source": [
        "n=1018\n",
        "pnull=.52\n",
        "phat=.56"
      ],
      "metadata": {
        "id": "T4Ipe__XTBqc"
      },
      "id": "T4Ipe__XTBqc",
      "execution_count": 19,
      "outputs": []
    },
    {
      "cell_type": "code",
      "source": [
        "sm.stats.proportions_ztest(phat*n,n,pnull,alternative='larger')"
      ],
      "metadata": {
        "colab": {
          "base_uri": "https://localhost:8080/"
        },
        "id": "8u_fYT88TKDo",
        "outputId": "61b2cb2e-b0c7-4152-f9fd-9bc122666bd2"
      },
      "id": "8u_fYT88TKDo",
      "execution_count": 21,
      "outputs": [
        {
          "output_type": "execute_result",
          "data": {
            "text/plain": [
              "(2.571067795759113, 0.005069273865860533)"
            ]
          },
          "metadata": {},
          "execution_count": 21
        }
      ]
    },
    {
      "cell_type": "markdown",
      "id": "e64e5437",
      "metadata": {
        "id": "e64e5437"
      },
      "source": [
        "### What is your Conclusion of the hypothesis test\n"
      ]
    },
    {
      "cell_type": "code",
      "execution_count": 22,
      "id": "4da83967",
      "metadata": {
        "id": "4da83967",
        "colab": {
          "base_uri": "https://localhost:8080/"
        },
        "outputId": "ca2c488d-c7c8-40e9-ded1-b3c37a250f8d"
      },
      "outputs": [
        {
          "output_type": "execute_result",
          "data": {
            "text/plain": [
              "(2.571067795759113, 0.005069273865860533)"
            ]
          },
          "metadata": {},
          "execution_count": 22
        }
      ],
      "source": [
        "sm.stats.proportions_ztest(phat*n,n,pnull,alternative='larger')"
      ]
    },
    {
      "cell_type": "markdown",
      "source": [
        "##Significance is 5%(which is 0.05) but we got answer 0.5%(which is 0.005) Hence,Our Null hypothesis get rejected and Alternative Hypothesis get selected.\n",
        "##My conclusion is:- more parents today believe that their teenager’s lack of sleep is caused due to electronics and social media"
      ],
      "metadata": {
        "id": "EcJmvaXkWYKQ"
      },
      "id": "EcJmvaXkWYKQ"
    },
    {
      "cell_type": "markdown",
      "id": "4503f17c",
      "metadata": {
        "id": "4503f17c"
      },
      "source": [
        "### 4. Calculate the set difference between the 2 sets (set1 - multipes of 3 upto a range of 31 and set2 - multiples of upto a range of 31)"
      ]
    },
    {
      "cell_type": "code",
      "execution_count": 28,
      "id": "d2760c77",
      "metadata": {
        "id": "d2760c77",
        "colab": {
          "base_uri": "https://localhost:8080/"
        },
        "outputId": "d00c2847-75c5-4b97-cde6-bd229fa39922"
      },
      "outputs": [
        {
          "output_type": "stream",
          "name": "stdout",
          "text": [
            "Set1: {3, 6, 9, 12, 15, 18, 21, 24, 27, 30}\n",
            "Set2: {1, 2, 3, 4, 5, 6, 7, 8, 9, 10, 11, 12, 13, 14, 15, 16, 17, 18, 19, 20, 21, 22, 23, 24, 25, 26, 27, 28, 29, 30, 31}\n",
            "Set Difference (Set2 - Set1): {1, 2, 4, 5, 7, 8, 10, 11, 13, 14, 16, 17, 19, 20, 22, 23, 25, 26, 28, 29, 31}\n"
          ]
        }
      ],
      "source": [
        "# Create set1: Multiples of 3 up to 31\n",
        "set1 = set(range(3, 32, 3))\n",
        "# Create set2: Multiples of upto a range of 31\n",
        "set2 = set(range(1, 32))\n",
        "\n",
        "\n",
        "\n",
        "# Calculate set difference (set2 - set1)\n",
        "result_set = set2 - set1\n",
        "\n",
        "# Print the result\n",
        "print(\"Set1:\", set1)\n",
        "print(\"Set2:\", set2)\n",
        "print(\"Set Difference (Set2 - Set1):\", result_set)\n"
      ]
    },
    {
      "cell_type": "markdown",
      "id": "796c2e91",
      "metadata": {
        "id": "796c2e91"
      },
      "source": [
        "### 5. Calculate a function to generate random arrays with range of (1,100) and the naive functions to calculate Mean, Varience and Standard deviation for the array generated"
      ]
    },
    {
      "cell_type": "code",
      "execution_count": 29,
      "id": "d9df5a6b",
      "metadata": {
        "id": "d9df5a6b",
        "colab": {
          "base_uri": "https://localhost:8080/"
        },
        "outputId": "bed2255e-c202-4afb-d8ae-e39f29085950"
      },
      "outputs": [
        {
          "output_type": "stream",
          "name": "stdout",
          "text": [
            "Random Array: [90 48 54 24 97 48 53 15 28 48]\n",
            "Mean: 50.5\n",
            "Variance: 622.85\n",
            "Standard Deviation: 24.956962956257318\n"
          ]
        }
      ],
      "source": [
        "import numpy as np\n",
        "\n",
        "def generate_random_array(size):\n",
        "    \"\"\"Generate a random array with values in the range (1, 100).\"\"\"\n",
        "    return np.random.randint(1, 101, size)\n",
        "\n",
        "def calculate_mean(arr):\n",
        "    \"\"\"Calculate the mean of an array.\"\"\"\n",
        "    return np.mean(arr)\n",
        "\n",
        "def calculate_variance(arr):\n",
        "    \"\"\"Calculate the variance of an array.\"\"\"\n",
        "    return np.var(arr)\n",
        "\n",
        "def calculate_std_deviation(arr):\n",
        "    \"\"\"Calculate the standard deviation of an array.\"\"\"\n",
        "    return np.std(arr)\n",
        "\n",
        "# Example: Generate a random array\n",
        "random_array = generate_random_array(10)\n",
        "\n",
        "# Calculate mean, variance, and standard deviation\n",
        "mean_value = calculate_mean(random_array)\n",
        "variance_value = calculate_variance(random_array)\n",
        "std_deviation_value = calculate_std_deviation(random_array)\n",
        "\n",
        "# Print the results\n",
        "print(\"Random Array:\", random_array)\n",
        "print(\"Mean:\", mean_value)\n",
        "print(\"Variance:\", variance_value)\n",
        "print(\"Standard Deviation:\", std_deviation_value)\n"
      ]
    }
  ],
  "metadata": {
    "kernelspec": {
      "display_name": "Python 3 (ipykernel)",
      "language": "python",
      "name": "python3"
    },
    "language_info": {
      "codemirror_mode": {
        "name": "ipython",
        "version": 3
      },
      "file_extension": ".py",
      "mimetype": "text/x-python",
      "name": "python",
      "nbconvert_exporter": "python",
      "pygments_lexer": "ipython3",
      "version": "3.11.3"
    },
    "colab": {
      "provenance": []
    }
  },
  "nbformat": 4,
  "nbformat_minor": 5
}